{
  "cells": [
    {
      "cell_type": "markdown",
      "metadata": {
        "id": "view-in-github",
        "colab_type": "text"
      },
      "source": [
        "<a href=\"https://colab.research.google.com/github/jhengineer/DeepLearning/blob/main/Copy_of_1_K_NearestNeighborAgorithm.ipynb\" target=\"_parent\"><img src=\"https://colab.research.google.com/assets/colab-badge.svg\" alt=\"Open In Colab\"/></a>"
      ]
    },
    {
      "cell_type": "code",
      "source": [
        "import matplotlib.pyplot as plt\n",
        "\n",
        "bl = [25.4, 26.3, 26.5, 29.0, 29.0, 29.7, 29.7, 30.0, 30.0, 30.7, 31.0, 31.0, 31.5, 32.0, 32.0, 32.0, 33.0, 33.0, 33.5, 33.5, 34.0, 34.0, 34.5, 35.0, 35.0, 35.0, 35.0, 36.0, 36.0, 37.0, 38.5, 38.5, 39.5, 41.0, 41.0]\n",
        "bw = [242.0, 290.0, 340.0, 363.0, 430.0, 450.0, 500.0, 390.0, 450.0, 500.0, 475.0, 500.0, 500.0, 340.0, 600.0, 600.0, 700.0, 700.0, 610.0, 650.0, 575.0, 685.0, 620.0, 680.0, 700.0, 725.0, 720.0, 714.0, 850.0, 1000.0, 920.0, 955.0, 925.0, 975.0, 950.0]\n",
        "sl = [9.8, 10.5, 10.6, 11.0, 11.2, 11.3, 11.8, 11.8, 12.0, 12.2, 12.4, 13.0, 14.3, 15.0]\n",
        "sw = [6.7, 7.5, 7.0, 9.7, 9.8, 8.7, 10.0, 9.9, 9.8, 12.2, 13.4, 12.2, 19.7, 19.9]\n",
        "\n",
        "len = bl+sl # list 두개를 합친다. 원소가 많아짐. total #49\n",
        "wgh = bw+sw # list 두개를 합친다. 원소가 많아짐. total #49\n",
        "plt.scatter(bl, bw)\n",
        "plt.scatter(sl, sw)\n",
        "plt.xlabel('length')\n",
        "plt.ylabel('wegith')\n",
        "plt.show\n"
      ],
      "metadata": {
        "id": "hVQ80imAGGSq"
      },
      "execution_count": null,
      "outputs": []
    },
    {
      "cell_type": "code",
      "source": [
        "fish_data=[[l,w] for l, w in zip(len, wgh)]\n",
        "\n",
        "fish_target = [1]*35 +[0]*14 # target 분류 도미와 빙어 2개라 0,1, 만약 4개면 0,1,2,3 되겠지.\n",
        "# 도미가 1 이고, 35개 data 갯수고, 빙어는 0 이고, 14개 data갯수다. total #49"
      ],
      "metadata": {
        "id": "FM5Y9HCVHaTU"
      },
      "execution_count": null,
      "outputs": []
    },
    {
      "cell_type": "code",
      "source": [
        "''' K nearest neighbor 최근접 이웃.\n",
        "    K 값의 default값은 5\n",
        "  사이키런 라이브러리-알고리즘(분류, 회귀, 클러스터링 등)과 데이터전처리, 모델 선택 등의 유용도구들을 제공파이썬패키지\n",
        "  sklearn은 2차원 배열이다!\n",
        "'''\n",
        "\n",
        "from sklearn.neighbors import KNeighborsClassifier\n",
        "kn = KNeighborsClassifier() #객체를 만든다. kn을 쓰기위해\n",
        "kn.fit(fish_data, fish_target) # fit = train 이라 생각하면된다.\n",
        "kn.score(fish_data, fish_target) # 정확도 Accuracy 평가하는 100점이 1.0이고 0점이 0.5 점이다.\n",
        "\n",
        "'''\n",
        "49개 data를 전부 트레이닝해서 또 같은데이터로 예측한(score)한 것이기 때문에 값은 1.0나오겠지.\n",
        "'''"
      ],
      "metadata": {
        "colab": {
          "base_uri": "https://localhost:8080/",
          "height": 35
        },
        "id": "8R62yf1HSBvt",
        "outputId": "2fc41e1e-678a-496d-af86-c404ebf1b833"
      },
      "execution_count": null,
      "outputs": [
        {
          "output_type": "execute_result",
          "data": {
            "text/plain": [
              "'\\n49개 data를 전부 트레이닝해서 또 같은데이터로 예측한(score)한 것이기 때문에 값은 1.0나오겠지.\\n'"
            ],
            "application/vnd.google.colaboratory.intrinsic+json": {
              "type": "string"
            }
          },
          "metadata": {},
          "execution_count": 10
        }
      ]
    },
    {
      "cell_type": "code",
      "source": [
        "kn.predict([[30,600]])\n",
        "\n",
        "#array([1])  = 결과가 1로 예측됨 도미.\n"
      ],
      "metadata": {
        "colab": {
          "base_uri": "https://localhost:8080/"
        },
        "id": "W2X9OJcyVEj3",
        "outputId": "4f57ef01-c846-41ec-ed76-7b41341113a3"
      },
      "execution_count": null,
      "outputs": [
        {
          "output_type": "execute_result",
          "data": {
            "text/plain": [
              "array([1])"
            ]
          },
          "metadata": {},
          "execution_count": 11
        }
      ]
    },
    {
      "cell_type": "code",
      "source": [
        "#이번에는 다르게 구성해보자. k neighbor  default값 을 바꿔ㅓ 49로 해보자.\n",
        "#즉, data set 전부를 neighbor라 생각하는거지.\n",
        "#다음번 공부할떄 KNN 더 자세히 파라메터 다 공부하자.\n",
        "kn49 = KNeighborsClassifier(n_neighbors=49)\n",
        "kn49.fit(fish_data, fish_target) # 타겟은 도미 1 빙어 0\n",
        "kn49.score(fish_data, fish_target)\n",
        "\n",
        "'''\n",
        "결과값은이 0.7인 이유는 가까운 이웃 데이터가 데이터 전체개수 이니까\n",
        "도미데이터는 100% 도미라 나오고 빙어도 도미라나온다. 도미데이터가 많으니까..\n",
        "70%이니까 뭘 넣어도 도미야. 30%정도 인 빙어 데이터는 예측이 틀리게 나오니까.\n",
        "빙어 예측이 다 틀리니까..\n",
        "'''\n",
        "print(35/49) #값이 kn49.score(fish_data, fish_target) 랑 똑 같다.\n"
      ],
      "metadata": {
        "colab": {
          "base_uri": "https://localhost:8080/"
        },
        "id": "LpOlIdicVpms",
        "outputId": "c372de98-75eb-4c37-93d2-92b8592a407a"
      },
      "execution_count": null,
      "outputs": [
        {
          "output_type": "stream",
          "name": "stdout",
          "text": [
            "0.7142857142857143\n"
          ]
        }
      ]
    },
    {
      "cell_type": "code",
      "source": [
        "'''\n",
        "훈련세트와 테스트세트를 데이터에서 분리하자.\n",
        "위에는 훈련과 테스트세트를 같이 썼는데 의미가 없잖어.\n",
        "나누자\n",
        "'''\n",
        "from sklearn.neighbors import KNeighborsClassifier\n",
        "import numpy as np\n",
        "\n",
        "input_arr = np.array(fish_data)\n",
        "target_arr = np.array(fish_target)\n",
        "\n",
        "index = np.arange(49) #[0,2,3,...48]\n",
        "np.random.shuffle(index) # random shuffled index like[5,20,13...]\n",
        "\n",
        "'''data를 섞을때 index로 하는이유는 물론 전부 섞어도 되지만..data가 많을때는 시간이 너무 많이 걸려.\n",
        "   그래서 index만 섞어서 나중에 data set 을 섞어진 걸로 만들면 되. 그게 더 좋으니까 외워.\n",
        "'''\n",
        "\n",
        "train_input = input_arr[index[ :35]]\n",
        "train_traget = target_arr[index[ :35]]\n",
        "\n",
        "test_input= input_arr[index[35: ]]\n",
        "test_target = target_arr[index[35: ]]\n",
        "\n",
        "kn = KNeighborsClassifier()\n",
        "kn = kn.fit(train_input, train_traget)\n",
        "\n",
        "kn.score(test_input,test_target)\n",
        "\n",
        "\n",
        "#graph\n",
        "import matplotlib.pyplot as plt\n",
        "\n",
        "plt.scatter(train_input[:, 0],train_input[: , 1])\n",
        "plt.scatter(test_input[:, 0], test_input[:, 1])\n",
        "\n",
        "plt.xlabel('length')\n",
        "plt.ylabel('wegith')\n",
        "plt.show()\n",
        "\n"
      ],
      "metadata": {
        "colab": {
          "base_uri": "https://localhost:8080/",
          "height": 449
        },
        "id": "eT83ipGqMBIM",
        "outputId": "3a4bfe8b-698f-4ee0-9644-583ee1ce71c7"
      },
      "execution_count": null,
      "outputs": [
        {
          "output_type": "display_data",
          "data": {
            "text/plain": [
              "<Figure size 640x480 with 1 Axes>"
            ],
            "image/png": "[encoded data removed]"
          },
          "metadata": {}
        }
      ]
    },
    {
      "cell_type": "markdown",
      "source": [],
      "metadata": {
        "id": "hFs7twFTRY0i"
      }
    }
  ],
  "metadata": {
    "colab": {
      "toc_visible": true,
      "provenance": [],
      "include_colab_link": true
    },
    "kernelspec": {
      "display_name": "Python 3",
      "name": "python3"
    }
  },
  "nbformat": 4,
  "nbformat_minor": 0
}