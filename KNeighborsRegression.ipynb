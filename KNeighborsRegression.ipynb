{
  "nbformat": 4,
  "nbformat_minor": 0,
  "metadata": {
    "colab": {
      "provenance": [],
      "authorship_tag": "ABX9TyP5EiL1hQoZAya1hgqnrsYZ",
      "include_colab_link": true
    },
    "kernelspec": {
      "name": "python3",
      "display_name": "Python 3"
    },
    "language_info": {
      "name": "python"
    }
  },
  "cells": [
    {
      "cell_type": "markdown",
      "metadata": {
        "id": "view-in-github",
        "colab_type": "text"
      },
      "source": [
        "<a href=\"https://colab.research.google.com/github/jhengineer/DeepLearning/blob/main/KNeighborsRegression.ipynb\" target=\"_parent\"><img src=\"https://colab.research.google.com/assets/colab-badge.svg\" alt=\"Open In Colab\"/></a>"
      ]
    },
    {
      "cell_type": "code",
      "execution_count": 1,
      "metadata": {
        "colab": {
          "base_uri": "https://localhost:8080/",
          "height": 449
        },
        "id": "rJQQLIVL6hCr",
        "outputId": "d89c2525-d198-4eaf-c735-04180b4d53eb"
      },
      "outputs": [
        {
          "output_type": "display_data",
          "data": {
            "text/plain": [
              "<Figure size 640x480 with 1 Axes>"
            ],
            "image/png": "[encoded data removed]"
          },
          "metadata": {}
        }
      ],
      "source": [
        "'''\n",
        "3장... 회귀라는데?\n",
        "지금까지는 classification을 했는데.\n",
        "3장은 regression 즉, 연속적인 수치를 예측하는거야.\n",
        "but the logistic regression is not regression but classification.\n",
        "\n",
        "'''\n",
        "\n",
        "import matplotlib.pyplot as plt\n",
        "import numpy as np\n",
        "from sklearn.model_selection import train_test_split\n",
        "\n",
        "perch_length = np.array(\n",
        "    [8.4, 13.7, 15.0, 16.2, 17.4, 18.0, 18.7, 19.0, 19.6, 20.0,\n",
        "     21.0, 21.0, 21.0, 21.3, 22.0, 22.0, 22.0, 22.0, 22.0, 22.5,\n",
        "     22.5, 22.7, 23.0, 23.5, 24.0, 24.0, 24.6, 25.0, 25.6, 26.5,\n",
        "     27.3, 27.5, 27.5, 27.5, 28.0, 28.7, 30.0, 32.8, 34.5, 35.0,\n",
        "     36.5, 36.0, 37.0, 37.0, 39.0, 39.0, 39.0, 40.0, 40.0, 40.0,\n",
        "     40.0, 42.0, 43.0, 43.0, 43.5, 44.0]\n",
        "     )\n",
        "perch_weight = np.array(\n",
        "    [5.9, 32.0, 40.0, 51.5, 70.0, 100.0, 78.0, 80.0, 85.0, 85.0,\n",
        "     110.0, 115.0, 125.0, 130.0, 120.0, 120.0, 130.0, 135.0, 110.0,\n",
        "     130.0, 150.0, 145.0, 150.0, 170.0, 225.0, 145.0, 188.0, 180.0,\n",
        "     197.0, 218.0, 300.0, 260.0, 265.0, 250.0, 250.0, 300.0, 320.0,\n",
        "     514.0, 556.0, 840.0, 685.0, 700.0, 700.0, 690.0, 900.0, 650.0,\n",
        "     820.0, 850.0, 900.0, 1015.0, 820.0, 1100.0, 1000.0, 1100.0,\n",
        "     1000.0, 1000.0]\n",
        "     )\n",
        "\n",
        "plt.scatter(perch_length, perch_weight)\n",
        "plt.xlabel('len')\n",
        "plt.ylabel('weight')\n",
        "plt.show()\n"
      ]
    },
    {
      "cell_type": "code",
      "source": [
        "'''at sklearn, you need to prepare the input data(train/test) must be a column array.\n",
        "so you have to transfrom the row array to col array using reshape() method.\n",
        "\n",
        "'''\n",
        "\n",
        "train_input, test_input, train_target, test_target = train_test_split(perch_length, perch_weight, random_state=42)\n",
        "\n",
        "train_input = train_input.reshape(-1, 1)  # ex) [1,2,3] = [[1],[2],[3]]\n",
        "test_input = test_input.reshape(-1, 1)"
      ],
      "metadata": {
        "id": "UKM5wMzU_Gri"
      },
      "execution_count": 2,
      "outputs": []
    },
    {
      "cell_type": "code",
      "source": [
        "from sklearn.neighbors import KNeighborsRegressor\n",
        "\n",
        "knr = KNeighborsRegressor()\n",
        "knr.fit(train_input, train_target)\n",
        "knr.score(test_input, test_target)\n",
        "\n",
        "print(knr.score(test_input, test_target))\n",
        "\n",
        "'''\n",
        "sklearn의 score값은 R제곱인데, 1에 가까울수록 좋다.\n",
        "R2 = 1- (Target - Prediction)^2 합 / (Target - Mean(Target))^2 합\n",
        "의미가 뭐냐? 분자는 numerator 는 타겟값과 예측값의 오차의 합을 / 예측없이 그냥 평균과의 차이 즉 분산(variance)을 나누는것인데,\n",
        "모델 오차가 분산중, 분산대비 얼마나 큰지 나타내는것, 즉 분자값 오차가 적으면 적을수록 1에 수렴. converges to 1\n",
        "\n",
        "'''\n",
        "\n",
        "from sklearn.metrics import mean_absolute_error #평균절대갑오차\n",
        "\n",
        "test_prediction = knr.predict(test_input)\n",
        "mae = mean_absolute_error(test_target, test_prediction)\n",
        "\n",
        "print(mae)\n",
        "\n"
      ],
      "metadata": {
        "colab": {
          "base_uri": "https://localhost:8080/"
        },
        "id": "FM0rKk3jBTTo",
        "outputId": "7b546326-4fe1-4334-a734-4b23aed5ed18"
      },
      "execution_count": 3,
      "outputs": [
        {
          "output_type": "stream",
          "name": "stdout",
          "text": [
            "0.992809406101064\n",
            "19.157142857142862\n"
          ]
        }
      ]
    },
    {
      "cell_type": "code",
      "source": [
        "'''\n",
        "under fitting  issue is trained model is too little sample\n",
        "피팅샘플이 너무 적어서. 아래 예시처럼 train과 test를 같은 dataset을 썼는데도 score가 1이 안나오고\n",
        "오히려 train 과 test set을 다르게 썼을때보다 score is lower. 말이 되냐고? that doesn't make any sense!\n",
        "\n",
        "over fitting  issue is trained model is too much sample\n",
        "샘플이 너무 많아 과하게 0.9999가 되는거고\n",
        "\n",
        "n_neighbors 의 갯수를 줄이면, over fitting되고 n_neighbors 의 갯수를 늘리면 under fitting이 된다.\n",
        "\n",
        "그래서!!\n",
        "neighbor의 수를 adjust해서 train_score가 test_scroe보다 살짝 높게 나오게 조정한다.\n",
        "'''\n",
        "\n",
        "knr = KNeighborsRegressor()\n",
        "knr.fit(train_input, train_target)\n",
        "knr.score(train_input, train_target) # 0.969.. underfitting\n",
        "\n",
        "print(knr.score(train_input, train_target))\n",
        "\n",
        "knr = KNeighborsRegressor()\n",
        "knr.fit(test_input, test_target)\n",
        "knr.score(test_input, test_target) # 0.8461256810611227.. underfitting\n",
        "\n",
        "print(knr.score(test_input, test_target))\n",
        "\n",
        "#so then adjust the numers that is indicated neighbor.\n",
        "\n",
        "knr.n_neighbors = 3\n",
        "knr.fit(train_input, train_target)\n",
        "print(knr.score(train_input, train_target))\n",
        "print(knr.score(test_input, test_target))\n",
        "\n",
        "\n"
      ],
      "metadata": {
        "colab": {
          "base_uri": "https://localhost:8080/"
        },
        "id": "q7jSuV3CFKnO",
        "outputId": "a94423ff-8189-4b66-803e-275c59105a17"
      },
      "execution_count": 4,
      "outputs": [
        {
          "output_type": "stream",
          "name": "stdout",
          "text": [
            "0.9698823289099254\n",
            "0.8461256810611227\n",
            "0.9804899950518966\n",
            "0.9746459963987609\n"
          ]
        }
      ]
    }
  ]
}