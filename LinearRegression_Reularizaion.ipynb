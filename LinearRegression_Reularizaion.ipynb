{
  "nbformat": 4,
  "nbformat_minor": 0,
  "metadata": {
    "colab": {
      "provenance": [],
      "authorship_tag": "ABX9TyNk6/LrVulkitfuxa39phiq",
      "include_colab_link": true
    },
    "kernelspec": {
      "name": "python3",
      "display_name": "Python 3"
    },
    "language_info": {
      "name": "python"
    }
  },
  "cells": [
    {
      "cell_type": "markdown",
      "metadata": {
        "id": "view-in-github",
        "colab_type": "text"
      },
      "source": [
        "<a href=\"https://colab.research.google.com/github/jhengineer/DeepLearning/blob/main/LinearRegression_Reularizaion.ipynb\" target=\"_parent\"><img src=\"https://colab.research.google.com/assets/colab-badge.svg\" alt=\"Open In Colab\"/></a>"
      ]
    },
    {
      "cell_type": "code",
      "execution_count": 206,
      "metadata": {
        "id": "Sv8g9B37YL_A",
        "colab": {
          "base_uri": "https://localhost:8080/",
          "height": 206
        },
        "outputId": "76b88657-470b-462f-db5e-cd6dcc9226e3"
      },
      "outputs": [
        {
          "output_type": "execute_result",
          "data": {
            "text/plain": [
              "   length   height   width\n",
              "0     8.4     2.11    1.41\n",
              "1    13.7     3.53    2.00\n",
              "2    15.0     3.82    2.43\n",
              "3    16.2     4.59    2.63\n",
              "4    17.4     4.59    2.94"
            ],
            "text/html": [
              "\n",
              "  <div id=\"df-ec35e1a3-e92b-4c0a-9d1b-9fe88077f2c9\" class=\"colab-df-container\">\n",
              "    <div>\n",
              "<style scoped>\n",
              "    .dataframe tbody tr th:only-of-type {\n",
              "        vertical-align: middle;\n",
              "    }\n",
              "\n",
              "    .dataframe tbody tr th {\n",
              "        vertical-align: top;\n",
              "    }\n",
              "\n",
              "    .dataframe thead th {\n",
              "        text-align: right;\n",
              "    }\n",
              "</style>\n",
              "<table border=\"1\" class=\"dataframe\">\n",
              "  <thead>\n",
              "    <tr style=\"text-align: right;\">\n",
              "      <th></th>\n",
              "      <th>length</th>\n",
              "      <th>height</th>\n",
              "      <th>width</th>\n",
              "    </tr>\n",
              "  </thead>\n",
              "  <tbody>\n",
              "    <tr>\n",
              "      <th>0</th>\n",
              "      <td>8.4</td>\n",
              "      <td>2.11</td>\n",
              "      <td>1.41</td>\n",
              "    </tr>\n",
              "    <tr>\n",
              "      <th>1</th>\n",
              "      <td>13.7</td>\n",
              "      <td>3.53</td>\n",
              "      <td>2.00</td>\n",
              "    </tr>\n",
              "    <tr>\n",
              "      <th>2</th>\n",
              "      <td>15.0</td>\n",
              "      <td>3.82</td>\n",
              "      <td>2.43</td>\n",
              "    </tr>\n",
              "    <tr>\n",
              "      <th>3</th>\n",
              "      <td>16.2</td>\n",
              "      <td>4.59</td>\n",
              "      <td>2.63</td>\n",
              "    </tr>\n",
              "    <tr>\n",
              "      <th>4</th>\n",
              "      <td>17.4</td>\n",
              "      <td>4.59</td>\n",
              "      <td>2.94</td>\n",
              "    </tr>\n",
              "  </tbody>\n",
              "</table>\n",
              "</div>\n",
              "    <div class=\"colab-df-buttons\">\n",
              "\n",
              "  <div class=\"colab-df-container\">\n",
              "    <button class=\"colab-df-convert\" onclick=\"convertToInteractive('df-ec35e1a3-e92b-4c0a-9d1b-9fe88077f2c9')\"\n",
              "            title=\"Convert this dataframe to an interactive table.\"\n",
              "            style=\"display:none;\">\n",
              "\n",
              "  <svg xmlns=\"http://www.w3.org/2000/svg\" height=\"24px\" viewBox=\"0 -960 960 960\">\n",
              "    <path d=\"M120-120v-720h720v720H120Zm60-500h600v-160H180v160Zm220 220h160v-160H400v160Zm0 220h160v-160H400v160ZM180-400h160v-160H180v160Zm440 0h160v-160H620v160ZM180-180h160v-160H180v160Zm440 0h160v-160H620v160Z\"/>\n",
              "  </svg>\n",
              "    </button>\n",
              "\n",
              "  <style>\n",
              "    .colab-df-container {\n",
              "      display:flex;\n",
              "      gap: 12px;\n",
              "    }\n",
              "\n",
              "    .colab-df-convert {\n",
              "      background-color: #E8F0FE;\n",
              "      border: none;\n",
              "      border-radius: 50%;\n",
              "      cursor: pointer;\n",
              "      display: none;\n",
              "      fill: #1967D2;\n",
              "      height: 32px;\n",
              "      padding: 0 0 0 0;\n",
              "      width: 32px;\n",
              "    }\n",
              "\n",
              "    .colab-df-convert:hover {\n",
              "      background-color: #E2EBFA;\n",
              "      box-shadow: 0px 1px 2px rgba(60, 64, 67, 0.3), 0px 1px 3px 1px rgba(60, 64, 67, 0.15);\n",
              "      fill: #174EA6;\n",
              "    }\n",
              "\n",
              "    .colab-df-buttons div {\n",
              "      margin-bottom: 4px;\n",
              "    }\n",
              "\n",
              "    [theme=dark] .colab-df-convert {\n",
              "      background-color: #3B4455;\n",
              "      fill: #D2E3FC;\n",
              "    }\n",
              "\n",
              "    [theme=dark] .colab-df-convert:hover {\n",
              "      background-color: #434B5C;\n",
              "      box-shadow: 0px 1px 3px 1px rgba(0, 0, 0, 0.15);\n",
              "      filter: drop-shadow(0px 1px 2px rgba(0, 0, 0, 0.3));\n",
              "      fill: #FFFFFF;\n",
              "    }\n",
              "  </style>\n",
              "\n",
              "    <script>\n",
              "      const buttonEl =\n",
              "        document.querySelector('#df-ec35e1a3-e92b-4c0a-9d1b-9fe88077f2c9 button.colab-df-convert');\n",
              "      buttonEl.style.display =\n",
              "        google.colab.kernel.accessAllowed ? 'block' : 'none';\n",
              "\n",
              "      async function convertToInteractive(key) {\n",
              "        const element = document.querySelector('#df-ec35e1a3-e92b-4c0a-9d1b-9fe88077f2c9');\n",
              "        const dataTable =\n",
              "          await google.colab.kernel.invokeFunction('convertToInteractive',\n",
              "                                                    [key], {});\n",
              "        if (!dataTable) return;\n",
              "\n",
              "        const docLinkHtml = 'Like what you see? Visit the ' +\n",
              "          '<a target=\"_blank\" href=https://colab.research.google.com/notebooks/data_table.ipynb>data table notebook</a>'\n",
              "          + ' to learn more about interactive tables.';\n",
              "        element.innerHTML = '';\n",
              "        dataTable['output_type'] = 'display_data';\n",
              "        await google.colab.output.renderOutput(dataTable, element);\n",
              "        const docLink = document.createElement('div');\n",
              "        docLink.innerHTML = docLinkHtml;\n",
              "        element.appendChild(docLink);\n",
              "      }\n",
              "    </script>\n",
              "  </div>\n",
              "\n",
              "\n",
              "    <div id=\"df-2e0b979c-b21f-4174-900f-f61569fdc6bb\">\n",
              "      <button class=\"colab-df-quickchart\" onclick=\"quickchart('df-2e0b979c-b21f-4174-900f-f61569fdc6bb')\"\n",
              "                title=\"Suggest charts\"\n",
              "                style=\"display:none;\">\n",
              "\n",
              "<svg xmlns=\"http://www.w3.org/2000/svg\" height=\"24px\"viewBox=\"0 0 24 24\"\n",
              "     width=\"24px\">\n",
              "    <g>\n",
              "        <path d=\"M19 3H5c-1.1 0-2 .9-2 2v14c0 1.1.9 2 2 2h14c1.1 0 2-.9 2-2V5c0-1.1-.9-2-2-2zM9 17H7v-7h2v7zm4 0h-2V7h2v10zm4 0h-2v-4h2v4z\"/>\n",
              "    </g>\n",
              "</svg>\n",
              "      </button>\n",
              "\n",
              "<style>\n",
              "  .colab-df-quickchart {\n",
              "      --bg-color: #E8F0FE;\n",
              "      --fill-color: #1967D2;\n",
              "      --hover-bg-color: #E2EBFA;\n",
              "      --hover-fill-color: #174EA6;\n",
              "      --disabled-fill-color: #AAA;\n",
              "      --disabled-bg-color: #DDD;\n",
              "  }\n",
              "\n",
              "  [theme=dark] .colab-df-quickchart {\n",
              "      --bg-color: #3B4455;\n",
              "      --fill-color: #D2E3FC;\n",
              "      --hover-bg-color: #434B5C;\n",
              "      --hover-fill-color: #FFFFFF;\n",
              "      --disabled-bg-color: #3B4455;\n",
              "      --disabled-fill-color: #666;\n",
              "  }\n",
              "\n",
              "  .colab-df-quickchart {\n",
              "    background-color: var(--bg-color);\n",
              "    border: none;\n",
              "    border-radius: 50%;\n",
              "    cursor: pointer;\n",
              "    display: none;\n",
              "    fill: var(--fill-color);\n",
              "    height: 32px;\n",
              "    padding: 0;\n",
              "    width: 32px;\n",
              "  }\n",
              "\n",
              "  .colab-df-quickchart:hover {\n",
              "    background-color: var(--hover-bg-color);\n",
              "    box-shadow: 0 1px 2px rgba(60, 64, 67, 0.3), 0 1px 3px 1px rgba(60, 64, 67, 0.15);\n",
              "    fill: var(--button-hover-fill-color);\n",
              "  }\n",
              "\n",
              "  .colab-df-quickchart-complete:disabled,\n",
              "  .colab-df-quickchart-complete:disabled:hover {\n",
              "    background-color: var(--disabled-bg-color);\n",
              "    fill: var(--disabled-fill-color);\n",
              "    box-shadow: none;\n",
              "  }\n",
              "\n",
              "  .colab-df-spinner {\n",
              "    border: 2px solid var(--fill-color);\n",
              "    border-color: transparent;\n",
              "    border-bottom-color: var(--fill-color);\n",
              "    animation:\n",
              "      spin 1s steps(1) infinite;\n",
              "  }\n",
              "\n",
              "  @keyframes spin {\n",
              "    0% {\n",
              "      border-color: transparent;\n",
              "      border-bottom-color: var(--fill-color);\n",
              "      border-left-color: var(--fill-color);\n",
              "    }\n",
              "    20% {\n",
              "      border-color: transparent;\n",
              "      border-left-color: var(--fill-color);\n",
              "      border-top-color: var(--fill-color);\n",
              "    }\n",
              "    30% {\n",
              "      border-color: transparent;\n",
              "      border-left-color: var(--fill-color);\n",
              "      border-top-color: var(--fill-color);\n",
              "      border-right-color: var(--fill-color);\n",
              "    }\n",
              "    40% {\n",
              "      border-color: transparent;\n",
              "      border-right-color: var(--fill-color);\n",
              "      border-top-color: var(--fill-color);\n",
              "    }\n",
              "    60% {\n",
              "      border-color: transparent;\n",
              "      border-right-color: var(--fill-color);\n",
              "    }\n",
              "    80% {\n",
              "      border-color: transparent;\n",
              "      border-right-color: var(--fill-color);\n",
              "      border-bottom-color: var(--fill-color);\n",
              "    }\n",
              "    90% {\n",
              "      border-color: transparent;\n",
              "      border-bottom-color: var(--fill-color);\n",
              "    }\n",
              "  }\n",
              "</style>\n",
              "\n",
              "      <script>\n",
              "        async function quickchart(key) {\n",
              "          const quickchartButtonEl =\n",
              "            document.querySelector('#' + key + ' button');\n",
              "          quickchartButtonEl.disabled = true;  // To prevent multiple clicks.\n",
              "          quickchartButtonEl.classList.add('colab-df-spinner');\n",
              "          try {\n",
              "            const charts = await google.colab.kernel.invokeFunction(\n",
              "                'suggestCharts', [key], {});\n",
              "          } catch (error) {\n",
              "            console.error('Error during call to suggestCharts:', error);\n",
              "          }\n",
              "          quickchartButtonEl.classList.remove('colab-df-spinner');\n",
              "          quickchartButtonEl.classList.add('colab-df-quickchart-complete');\n",
              "        }\n",
              "        (() => {\n",
              "          let quickchartButtonEl =\n",
              "            document.querySelector('#df-2e0b979c-b21f-4174-900f-f61569fdc6bb button');\n",
              "          quickchartButtonEl.style.display =\n",
              "            google.colab.kernel.accessAllowed ? 'block' : 'none';\n",
              "        })();\n",
              "      </script>\n",
              "    </div>\n",
              "\n",
              "    </div>\n",
              "  </div>\n"
            ],
            "application/vnd.google.colaboratory.intrinsic+json": {
              "type": "dataframe",
              "variable_name": "perch_full",
              "summary": "{\n  \"name\": \"perch_full\",\n  \"rows\": 56,\n  \"fields\": [\n    {\n      \"column\": \"length\",\n      \"properties\": {\n        \"dtype\": \"number\",\n        \"std\": 9.021668000236627,\n        \"min\": 8.4,\n        \"max\": 44.0,\n        \"num_unique_values\": 39,\n        \"samples\": [\n          39.0,\n          43.0,\n          17.4\n        ],\n        \"semantic_type\": \"\",\n        \"description\": \"\"\n      }\n    },\n    {\n      \"column\": \" height\",\n      \"properties\": {\n        \"dtype\": \"number\",\n        \"std\": 2.878342777164864,\n        \"min\": 2.11,\n        \"max\": 12.8,\n        \"num_unique_values\": 46,\n        \"samples\": [\n          11.93,\n          7.05,\n          7.28\n        ],\n        \"semantic_type\": \"\",\n        \"description\": \"\"\n      }\n    },\n    {\n      \"column\": \" width\",\n      \"properties\": {\n        \"dtype\": \"number\",\n        \"std\": 1.775006191684829,\n        \"min\": 1.41,\n        \"max\": 8.14,\n        \"num_unique_values\": 50,\n        \"samples\": [\n          3.53,\n          6.0,\n          4.77\n        ],\n        \"semantic_type\": \"\",\n        \"description\": \"\"\n      }\n    }\n  ]\n}"
            }
          },
          "metadata": {},
          "execution_count": 206
        }
      ],
      "source": [
        "import pandas as pd\n",
        "\n",
        "perch_full = pd.read_csv('https://bit.ly/perch_csv_data')\n",
        "perch_full.head()"
      ]
    },
    {
      "cell_type": "code",
      "source": [
        "from sklearn.preprocessing import PolynomialFeatures\n",
        "\n",
        "#아래함수는 그냥 테스트 용이야.\n",
        "#degree=2 이차함수. function default value라서 아래에서 생략해라.\n",
        "poly = PolynomialFeatures(degree=2)\n",
        "poly.fit([[2,3]]) # 입력값 2,3인 예제. fit 함수에서는 transform 할 준비한다.\n",
        "                  # 중복조합을 차수별로 어떻게 구성할것인지 내부적으로 코딩되 있겠지. x,(1,0) x*y, x*x, y*y (1,2) (1,1) (2,2) ... 이런식으로.. 암튼 준비단계.\n",
        "\n",
        "# 실제로 계산은 transform funtion 에서 되는거야. transform까지 해야 완성이지.\n",
        "print(poly.transform([[2,3]]))\n",
        "#[[1. 2. 3. 4. 6. 9.]] 1은 상수다. 절편(bias), 2,3은 자기자신, 4=2*2, 6=2*3, 9 = 3*3\n"
      ],
      "metadata": {
        "colab": {
          "base_uri": "https://localhost:8080/"
        },
        "id": "4b3g3DSwLCnE",
        "outputId": "1cc46985-2037-43f3-d267-1931e42477c3"
      },
      "execution_count": 207,
      "outputs": [
        {
          "output_type": "stream",
          "name": "stdout",
          "text": [
            "[[1. 2. 3. 4. 6. 9.]]\n"
          ]
        }
      ]
    },
    {
      "cell_type": "code",
      "source": [
        "import numpy as np\n",
        "from sklearn.model_selection import train_test_split\n",
        "\n",
        "perch_weight = np.array(\n",
        "    [5.9, 32.0, 40.0, 51.5, 70.0, 100.0, 78.0, 80.0, 85.0, 85.0,\n",
        "     110.0, 115.0, 125.0, 130.0, 120.0, 120.0, 130.0, 135.0, 110.0,\n",
        "     130.0, 150.0, 145.0, 150.0, 170.0, 225.0, 145.0, 188.0, 180.0,\n",
        "     197.0, 218.0, 300.0, 260.0, 265.0, 250.0, 250.0, 300.0, 320.0,\n",
        "     514.0, 556.0, 840.0, 685.0, 700.0, 700.0, 690.0, 900.0, 650.0,\n",
        "     820.0, 850.0, 900.0, 1015.0, 820.0, 1100.0, 1000.0, 1100.0,\n",
        "     1000.0, 1000.0]\n",
        "     )\n",
        "\n",
        "\n",
        "train_input, test_input, train_target, test_target = train_test_split(perch_full, perch_weight, random_state=42) #75%, 25%"
      ],
      "metadata": {
        "id": "aPEJeO8fV45W"
      },
      "execution_count": 208,
      "outputs": []
    },
    {
      "cell_type": "code",
      "source": [
        "poly = PolynomialFeatures(degree=2, include_bias=False)\n",
        "\n",
        "poly.fit(train_input)  # fit은 한번만 한다. 알지? 왜 test_poly할때 안해주는지?\n",
        "train_poly = poly.transform(train_input)\n",
        "print(train_poly.shape) #특성이 9개 생성됨. 디퐅트 bias 가 빠져서..\n",
        "print(poly.get_feature_names_out())\n",
        "\n",
        "test_poly = poly.transform(test_input)\n",
        "\n"
      ],
      "metadata": {
        "id": "VlE6N-npOLFH",
        "colab": {
          "base_uri": "https://localhost:8080/"
        },
        "outputId": "6a92dbcb-5d38-4fcd-b6b9-c4c6322d675c"
      },
      "execution_count": 209,
      "outputs": [
        {
          "output_type": "stream",
          "name": "stdout",
          "text": [
            "(42, 9)\n",
            "['length' ' height' ' width' 'length^2' 'length  height' 'length  width'\n",
            " ' height^2' ' height  width' ' width^2']\n"
          ]
        }
      ]
    },
    {
      "cell_type": "code",
      "source": [
        "# preprocessing 된 data로 linearRegression을 돌려보자.\n",
        "# 흐름이 뭐냐? overfitting을 방지하기위해 특성을 더 늘리는거지. 이전장은 특성이 딸랑2개(길이랑..두께) 아님 1개 였나?(길이)\n",
        "\n",
        "from sklearn.linear_model import LinearRegression\n",
        "\n",
        "lr=LinearRegression()\n",
        "lr.fit(train_poly, train_target)\n",
        "\n",
        "#컬럼벡터로 바꾸는 코드가 빠진이유는 이건 이미 2차원 특성이 세로인 데이터들이 합쳐진거라서.\n",
        "#컬럼벡터로 바꾸는 이유는 1차원일때 세로 데이터를 넣을라고. 지금은 세로데이터들의 세트잖어.\n",
        "\n",
        "print(lr.score(train_poly, train_target))\n",
        "print(lr.score(test_poly, test_target))\n",
        "\n",
        "'''\n",
        "sklearn의 score값은 R제곱 (coefficient of determination) 결정 계수 인데, 1에 가까울수록 좋다.\n",
        "R2 = 1- (Target - Prediction)^2 합 / (Target - Mean(Target))^2 합\n",
        "의미가 뭐냐? 분자는 numerator 는 타겟값과 예측값의 오차의 합을 / 예측없이 그냥 평균과의 차이 즉 분산(variance)을 나누는것인데,\n",
        "모델 오차가 분산중, 분산대비 얼마나 큰지 나타내는것, 즉 분자값 오차가 적으면 적을수록 1에 수렴. converges to 1\n",
        "\n",
        "'''\n",
        "\n",
        "#test score = 0.97나왔는데 특성을 더 줘서 점수를 높여보자."
      ],
      "metadata": {
        "colab": {
          "base_uri": "https://localhost:8080/",
          "height": 105
        },
        "id": "C4vdtg5JhXEf",
        "outputId": "883d4847-c6b0-4308-d61b-cc04d1956a9a"
      },
      "execution_count": 210,
      "outputs": [
        {
          "output_type": "stream",
          "name": "stdout",
          "text": [
            "0.9903183436982125\n",
            "0.9714559911594111\n"
          ]
        },
        {
          "output_type": "execute_result",
          "data": {
            "text/plain": [
              "'\\nsklearn의 score값은 R제곱 (coefficient of determination) 결정 계수 인데, 1에 가까울수록 좋다.\\nR2 = 1- (Target - Prediction)^2 합 / (Target - Mean(Target))^2 합\\n의미가 뭐냐? 분자는 numerator 는 타겟값과 예측값의 오차의 합을 / 예측없이 그냥 평균과의 차이 즉 분산(variance)을 나누는것인데,\\n모델 오차가 분산중, 분산대비 얼마나 큰지 나타내는것, 즉 분자값 오차가 적으면 적을수록 1에 수렴. converges to 1\\n\\n'"
            ],
            "application/vnd.google.colaboratory.intrinsic+json": {
              "type": "string"
            }
          },
          "metadata": {},
          "execution_count": 210
        }
      ]
    },
    {
      "cell_type": "code",
      "source": [
        "poly = PolynomialFeatures(degree=5, include_bias=False)\n",
        "\n",
        "poly.fit(train_input)  # fit은 한번만 한다. 알지? 왜 test_poly할때 안해주는지?\n",
        "train_poly = poly.transform(train_input)\n",
        "print(train_poly.shape) #특성이 55개 생성됨. 디퐅트 bias 가 빠져서..\n",
        "#print(poly.get_feature_names_out())\n",
        "test_poly = poly.transform(test_input)\n",
        "\n",
        "lr.fit(train_poly, train_target)\n",
        "print(lr.score(train_poly, train_target))#0.99 완벽한.\n",
        "print(lr.score(test_poly, test_target)) #-144가 나온다.. 너무overfitting이 되는거지.\n",
        "\n",
        "'''\n",
        "overfitting 을 방지하기 위해 Regularizaion 규제를 해줘야해..\n",
        "Regularization 규제 방법에는\n",
        "1. 모델을 만들때 잘 overfitting 안되게 만들도록 LinearRegression 말고 Ridge/Lasso/elesticNet 을 써.\n",
        "그 전에 input data normalization을 먼저 해주서 학습안정화, 수렴속도개선, overfitting 간접방지 해주자.\n",
        "아래는 Normalizaion\n",
        "'''\n"
      ],
      "metadata": {
        "colab": {
          "base_uri": "https://localhost:8080/",
          "height": 105
        },
        "id": "2yLRiXFUmKfW",
        "outputId": "8e1e894b-f363-404c-e1ab-d6cc227725b9"
      },
      "execution_count": 211,
      "outputs": [
        {
          "output_type": "stream",
          "name": "stdout",
          "text": [
            "(42, 55)\n",
            "0.9999999999996433\n",
            "-144.40579436844948\n"
          ]
        },
        {
          "output_type": "execute_result",
          "data": {
            "text/plain": [
              "'\\noverfitting 을 방지하기 위해 Regularizaion 규제를 해줘야해..\\nRegularization 규제 방법에는  \\n1. 모델을 만들때 잘 overfitting 안되게 만들도록 LinearRegression 말고 Ridge/Lasso/elesticNet 을 써.\\n그 전에 input data normalization을 먼저 해주서 학습안정화, 수렴속도개선, overfitting 간접방지 해주자.\\n아래는 Normalizaion\\n'"
            ],
            "application/vnd.google.colaboratory.intrinsic+json": {
              "type": "string"
            }
          },
          "metadata": {},
          "execution_count": 211
        }
      ]
    },
    {
      "cell_type": "code",
      "source": [],
      "metadata": {
        "id": "hMfgFy3N0Kbh"
      },
      "execution_count": 211,
      "outputs": []
    },
    {
      "cell_type": "code",
      "source": [
        "# 아래는 normalization  표준화 방법\n",
        "#표준화란. 평균이 0 표준편차가 1일로 두려고 표준값 = 실제값-평균/표준편차.계산한다. 표준편차는 편차들(평균과 실제값차이로 발생되는 거리) 평균.\n",
        "#의미는 표준편차대비 데이터 값이 어떤지. 나눴으니까.. 몇배로 큰지 작은지.. 표준편차기준으로 데이터를 조정함.\n",
        "#의미는 표준편차보다 얼마다 너 차이가 있나.. 차이가 작나 많나로 데이터를 조정하는거지..\n",
        "# normalization 방법에 min-max scaling 이라는것도 있다. 표준값 = x-min/max-min\n",
        "\n",
        "from sklearn.preprocessing import StandardScaler\n",
        "\n",
        "ss = StandardScaler()\n",
        "ss.fit(train_poly) # *train_poly 데이터의 평균(mean)과 표준편차(std)**를 계산해서 StandardScaler 객체 ss 안에 저장만 해놓는 겁니다.\n",
        "                   # fit은 한번만 한다. 알지? 왜 test_poly할때 안해주는지?\n",
        "\n",
        "train_scaled = ss.transform(train_poly) # 여기서 실제 계산.\n",
        "test_scaled = ss.transform(test_poly)\n",
        "\n"
      ],
      "metadata": {
        "id": "VbhFx2rUbLrR"
      },
      "execution_count": 212,
      "outputs": []
    },
    {
      "cell_type": "code",
      "source": [
        "'''Ridge Regression(L2 Regularization)\n",
        "Ridge Regression model\n",
        " Loss = MSE + a*sum of (b^2) ; a=hyperparameter, b=coeffieients for features. b는 특성갯수만큼 있다.\n",
        " 뒷 부분때문에 b값이 무한정 커질수 없으니까.. 기울기들이 약간 줄어드는 효과.. 오버핏팅방지됨.\n",
        " come up with!! features are 55이다. 알지? degree=5\n",
        "'''\n",
        "\n",
        "from sklearn.linear_model import Ridge\n",
        "\n",
        "ridge = Ridge() # default a=1이다.\n",
        "ridge.fit(train_scaled, train_target)\n",
        "print(ridge.score(train_scaled, train_target))\n",
        "print(ridge.score(test_scaled, test_target))\n",
        "\n",
        "# 위 ridge 모델 default a=1이다. 하이퍼파라메터를 바꿔서 (람다 혹은 알파라고한다)\n",
        "# 최적값을 찾아보자. 이런건 자동으로 제공안해주나몰라.."
      ],
      "metadata": {
        "colab": {
          "base_uri": "https://localhost:8080/"
        },
        "id": "WbFIlpKorjhw",
        "outputId": "c60e71f9-e374-4ce9-d4e1-a293831203e7"
      },
      "execution_count": 213,
      "outputs": [
        {
          "output_type": "stream",
          "name": "stdout",
          "text": [
            "0.9896101671037343\n",
            "0.9790693977615387\n"
          ]
        }
      ]
    },
    {
      "cell_type": "code",
      "source": [
        "hyperparam_list=[0.001, 0.01,0.1, 1, 10, 100] # 리스트 만들때 tip은 영역을 크게 나눠서 로그스케일로(?) 값을 둔다.\n",
        "train_score=[]\n",
        "test_score=[]\n",
        "for a in hyperparam_list:\n",
        "  ridge = Ridge(alpha=a)\n",
        "  ridge.fit(train_scaled, train_target)\n",
        "  train_score.append(ridge.score(train_scaled, train_target))\n",
        "  test_score.append(ridge.score(test_scaled, test_target))\n"
      ],
      "metadata": {
        "id": "HR4PzlIftjss"
      },
      "execution_count": 214,
      "outputs": []
    },
    {
      "cell_type": "code",
      "source": [
        "import matplotlib.pyplot as plt\n",
        "\n",
        "plt.plot(np.log10(hyperparam_list), train_score)\n",
        "plt.plot(np.log10(hyperparam_list), test_score)\n",
        "plt.xlabel('log10 of alpha')\n",
        "plt.ylabel('R^2') #score\n",
        "plt.show()\n",
        "#   -1 즉 0.1일때 가장 좋다"
      ],
      "metadata": {
        "colab": {
          "base_uri": "https://localhost:8080/",
          "height": 449
        },
        "id": "c6bmTx4RveGV",
        "outputId": "5c642a03-30a0-4a0f-ec78-d54fb108f82c"
      },
      "execution_count": 215,
      "outputs": [
        {
          "output_type": "display_data",
          "data": {
            "text/plain": [
              "<Figure size 640x480 with 1 Axes>"
            ],
            "image/png": "[encoded data removed]"
          },
          "metadata": {}
        }
      ]
    },
    {
      "cell_type": "code",
      "source": [
        "'''\n",
        "0.1이라는 값을 찾았는데 근방의 숫자들을 근처로 더 좋은 알파값을 찾으면 되는데\n",
        "여기서는 생략하고, 스코어만 프린트한다.\n",
        "'''\n",
        "ridge=Ridge(alpha=0.1)\n",
        "ridge.fit(train_scaled, train_target)\n",
        "print(ridge.score(train_scaled, train_target))\n",
        "print(ridge.score(test_scaled, test_target))"
      ],
      "metadata": {
        "colab": {
          "base_uri": "https://localhost:8080/"
        },
        "id": "zs7WNDRwyhTe",
        "outputId": "016f4f55-bd13-4c37-b1a4-4bbaf130de02"
      },
      "execution_count": 216,
      "outputs": [
        {
          "output_type": "stream",
          "name": "stdout",
          "text": [
            "0.9903815817570367\n",
            "0.9827976465386928\n"
          ]
        }
      ]
    },
    {
      "cell_type": "code",
      "source": [
        "#Lasso 가지고도 해 보자.\n",
        "'''L1 Regulation\n",
        "Loss = MSE + a*sum of b\n",
        "규제 영역 마름모. 꼭지점이 축에 걸린다. 특정 변수는 0이 된다..\n",
        "'''\n",
        "\n",
        "from sklearn.linear_model import Lasso\n",
        "\n",
        "alpha_list = [0.001, 0.01, 0.1, 1, 10, 100]\n",
        "train_score=[]\n",
        "test_score=[]\n",
        "\n",
        "for a in alpha_list:\n",
        "  lasso = Lasso(alpha=a)\n",
        "  lasso.fit(train_scaled, train_target)\n",
        "  train_score.append(lasso.score(train_scaled, train_target))\n",
        "  test_score.append(lasso.score(test_scaled, test_target))\n",
        "\n",
        "plt.plot(np.log10(alpha_list), train_score)\n",
        "plt.plot(np.log10(alpha_list), test_score)\n",
        "plt.xlabel('log10 of alpha')\n",
        "plt.ylabel('R^2') #score\n",
        "plt.show()\n",
        "#\n",
        "lasso = Lasso(alpha=10)\n",
        "lasso.fit(train_scaled, train_target)\n",
        "train_score.append(lasso.score(train_scaled, train_target))\n",
        "test_score.append(lasso.score(test_scaled, test_target))\n",
        "\n",
        "print(np.sum(lasso.coef_ ==0)) # 40 개가 특성 가중치가 0이다 coefficient 가 0 베터값이 0"
      ],
      "metadata": {
        "colab": {
          "base_uri": "https://localhost:8080/",
          "height": 466
        },
        "id": "XbuCCmEV0L0i",
        "outputId": "2758e092-f890-41b0-f5d8-de5c55796978"
      },
      "execution_count": 219,
      "outputs": [
        {
          "output_type": "display_data",
          "data": {
            "text/plain": [
              "<Figure size 640x480 with 1 Axes>"
            ],
            "image/png": "[encoded data removed]"
          },
          "metadata": {}
        },
        {
          "output_type": "stream",
          "name": "stdout",
          "text": [
            "40\n"
          ]
        }
      ]
    },
    {
      "cell_type": "code",
      "source": [],
      "metadata": {
        "id": "_Xf4xpkk8FAK"
      },
      "execution_count": null,
      "outputs": []
    },
    {
      "cell_type": "markdown",
      "source": [
        "alpha값 최적화 할때 실제 팁은. cross-validation 기법\n",
        "only train_Data를 K개로 나눠서 (아마 k는 param from user) 1개는 test용이고 나머지는 train용으로 성능평가를 k번 하는거지. train test set을 돌려가면서..\n",
        "score 평균이 최고인것으로 모델을 만들어. 실제\n",
        "RidgeCV / GridSearchCV /LassoCV /ElasticCV 다 있다. 담에 공부해. 안해도 되고..해도 되고.. 필요할떄 공부하지 뭐."
      ],
      "metadata": {
        "id": "njosEtO45dBI"
      }
    },
    {
      "cell_type": "code",
      "source": [],
      "metadata": {
        "id": "GtA1gU6x6oxE"
      },
      "execution_count": null,
      "outputs": []
    }
  ]
}