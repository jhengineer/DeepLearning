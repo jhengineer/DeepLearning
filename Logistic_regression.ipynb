{
  "nbformat": 4,
  "nbformat_minor": 0,
  "metadata": {
    "colab": {
      "provenance": [],
      "authorship_tag": "ABX9TyO7FzXcvwb+/1OY/dBINt1m",
      "include_colab_link": true
    },
    "kernelspec": {
      "name": "python3",
      "display_name": "Python 3"
    },
    "language_info": {
      "name": "python"
    }
  },
  "cells": [
    {
      "cell_type": "markdown",
      "metadata": {
        "id": "view-in-github",
        "colab_type": "text"
      },
      "source": [
        "<a href=\"https://colab.research.google.com/github/jhengineer/DeepLearning/blob/main/Logistic_regression.ipynb\" target=\"_parent\"><img src=\"https://colab.research.google.com/assets/colab-badge.svg\" alt=\"Open In Colab\"/></a>"
      ]
    },
    {
      "cell_type": "code",
      "execution_count": 3,
      "metadata": {
        "id": "q_T9kp1t6-lF"
      },
      "outputs": [],
      "source": [
        "import pandas as pd\n",
        "import numpy as np\n",
        "fish = pd.read_csv('https://bit.ly/fish_csv_data')\n",
        "fish.head()\n",
        "\n",
        "fish_input = fish[['Weight', 'Length', 'Diagonal', 'Height', 'Width']].to_numpy() #1차원 배열. 판다스의.\n",
        "fish_target = fish['Species'].to_numpy()"
      ]
    },
    {
      "cell_type": "code",
      "source": [
        "# split tain/test\n",
        "from sklearn.model_selection import train_test_split\n",
        "\n",
        "train_input, test_input, train_target, test_target = train_test_split(fish_input, fish_target, random_state=42) # defautl 25%\n",
        "\n",
        "#normalization\n",
        "from sklearn.preprocessing import StandardScaler\n",
        "\n",
        "ss=StandardScaler()\n",
        "ss.fit(train_input)\n",
        "train_scaled = ss.transform(train_input)\n",
        "test_scaled = ss.transform(test_input)\n"
      ],
      "metadata": {
        "id": "OcJlrmkd9vqg"
      },
      "execution_count": 4,
      "outputs": []
    },
    {
      "cell_type": "code",
      "source": [
        "from sklearn.neighbors import KNeighborsClassifier\n",
        "\n",
        "kn = KNeighborsClassifier(n_neighbors=3)\n",
        "kn.fit(train_scaled, train_target)\n",
        "\n",
        "print(kn.classes_)\n"
      ],
      "metadata": {
        "colab": {
          "base_uri": "https://localhost:8080/"
        },
        "id": "Y2gRmbiW_Xpq",
        "outputId": "6ade137e-00f0-4796-f11d-809dd1f32b8f"
      },
      "execution_count": 5,
      "outputs": [
        {
          "output_type": "stream",
          "name": "stdout",
          "text": [
            "['Bream' 'Parkki' 'Perch' 'Pike' 'Roach' 'Smelt' 'Whitefish']\n"
          ]
        }
      ]
    },
    {
      "cell_type": "code",
      "source": [
        "print(kn.predict(test_scaled[:5]))\n",
        "\n",
        "proba = kn.predict_proba(test_scaled[:5]) # 확률 출력 probability.\n",
        "print(np.round(proba, decimals=4)) # 4쨰자리지 끊어서.\n",
        "\n",
        "'''\n",
        "출력 수probability를 보면 n_neighbors=3이니, 1/3 or 2/3 or 1이 된다.\n",
        "한계지. 이런거 말고 정말 확율같은 확율로.. 풀려면 로지스틱 회귀를 해.\n",
        "'''"
      ],
      "metadata": {
        "colab": {
          "base_uri": "https://localhost:8080/",
          "height": 140
        },
        "id": "NW1TbLLWA8Uv",
        "outputId": "0d9932d1-2656-4461-b47a-d8a7b425fe15"
      },
      "execution_count": 6,
      "outputs": [
        {
          "output_type": "stream",
          "name": "stdout",
          "text": [
            "['Perch' 'Smelt' 'Pike' 'Perch' 'Perch']\n",
            "[[0.     0.     1.     0.     0.     0.     0.    ]\n",
            " [0.     0.     0.     0.     0.     1.     0.    ]\n",
            " [0.     0.     0.     1.     0.     0.     0.    ]\n",
            " [0.     0.     0.6667 0.     0.3333 0.     0.    ]\n",
            " [0.     0.     0.6667 0.     0.3333 0.     0.    ]]\n"
          ]
        },
        {
          "output_type": "execute_result",
          "data": {
            "text/plain": [
              "'\\n출력 수probability를 보면 n_neighbors=3이니, 1/3 or 2/3 or 1이 된다.\\n한계지. 이런거 말고 정말 확율같은 확율로.. 풀려면 로지스틱 회귀를 해.\\n'"
            ],
            "application/vnd.google.colaboratory.intrinsic+json": {
              "type": "string"
            }
          },
          "metadata": {},
          "execution_count": 6
        }
      ]
    },
    {
      "cell_type": "code",
      "source": [
        "#Logistic Regression. 분류야. Regression 은 특정 숫자를 찾는거지만 로지스틱만 예외야. 분류.\n",
        "'''\n",
        "z = a * 무게 + b*길이 + c*대각선 + d* 높이 + e* 두께 + f\n",
        "\n",
        "sigmod(z) = 1/(1+exp(-z))\n",
        "'''\n",
        "'''\n",
        "처음 예제는 쉽게 가자 둘중 하나 고르는 이진분류 예시다\n",
        "'''\n",
        "\n",
        "bream_smelt_indexes = (train_target == 'Bream') | (train_target == 'Smelt')\n",
        "train_bream_smelt = train_scaled[bream_smelt_indexes]\n",
        "target_bream_smelt = train_target[bream_smelt_indexes]\n",
        "\n",
        "from sklearn.linear_model import LogisticRegression\n",
        "\n",
        "lr = LogisticRegression()\n",
        "lr.fit(train_bream_smelt, target_bream_smelt)\n",
        "\n",
        "print(lr.predict(train_bream_smelt[:5]))\n",
        "\n",
        "print(lr.predict_proba(train_bream_smelt[:5]))\n",
        "\n",
        "# 알파벳 순서대로 bream이 음성 클래서 smelt 가 양성 클래스다.\n",
        "# 아래 앞에있는 숫자 확률이 음성, 뒤에가 양성 이다."
      ],
      "metadata": {
        "colab": {
          "base_uri": "https://localhost:8080/"
        },
        "id": "9PP3-vzRFQQj",
        "outputId": "e97ea332-62bb-4302-f5a8-73c093e2be4a"
      },
      "execution_count": 7,
      "outputs": [
        {
          "output_type": "stream",
          "name": "stdout",
          "text": [
            "['Bream' 'Smelt' 'Bream' 'Bream' 'Bream']\n",
            "[[0.99760007 0.00239993]\n",
            " [0.02737325 0.97262675]\n",
            " [0.99486386 0.00513614]\n",
            " [0.98585047 0.01414953]\n",
            " [0.99767419 0.00232581]]\n"
          ]
        }
      ]
    },
    {
      "cell_type": "code",
      "source": [
        "print(lr.coef_, lr.intercept_)\n",
        "\n",
        "# 특성 해당하는 coeff 5개 절편 1개\n",
        "# -0.404x무게-0.575x길이-0.66대각선 높이.. 두께.. -2.161(절)....@@@\n",
        "# 표준화 노말라이제이션을 했기때문에.. ss 음수값들로만 생성되었다. 놀라지 말라. 맞다."
      ],
      "metadata": {
        "colab": {
          "base_uri": "https://localhost:8080/"
        },
        "id": "w_sdzU48lu1z",
        "outputId": "02a4e002-a187-449b-d8de-5e14a545c9eb"
      },
      "execution_count": 8,
      "outputs": [
        {
          "output_type": "stream",
          "name": "stdout",
          "text": [
            "[[-0.40451732 -0.57582787 -0.66248158 -1.01329614 -0.73123131]] [-2.16172774]\n"
          ]
        }
      ]
    },
    {
      "cell_type": "code",
      "source": [
        "decisions = lr.decision_function(train_bream_smelt[:5]) #선형방정식 자체값 위에  ....@@@ 식에 넣어서 얻어진값.\n",
        "print(decisions)"
      ],
      "metadata": {
        "colab": {
          "base_uri": "https://localhost:8080/"
        },
        "id": "YDBeQ4Csm-GM",
        "outputId": "78883fb3-ccc2-4f0f-f8b7-2bf15cf893e5"
      },
      "execution_count": 9,
      "outputs": [
        {
          "output_type": "stream",
          "name": "stdout",
          "text": [
            "[-6.02991358  3.57043428 -5.26630496 -4.24382314 -6.06135688]\n"
          ]
        }
      ]
    },
    {
      "cell_type": "code",
      "source": [
        "from scipy.special import expit # scipy 안에 expit 함수가 시그모이드인데 요 함수를 써서 decisions 의 sigmoid 값을 알아보려고.\n",
        "print(expit(decisions))\n",
        "'''\n",
        "시그모이드 값 출력된다. 사이파이에 exit 함수가 시그모이드다.)\n",
        "0.5 넘으면 양성. 아래면 음성.\n",
        "'''"
      ],
      "metadata": {
        "colab": {
          "base_uri": "https://localhost:8080/",
          "height": 53
        },
        "id": "iMbVA-FIoGwa",
        "outputId": "6f5d4a60-4b0c-498c-a259-f7704037bbfb"
      },
      "execution_count": 10,
      "outputs": [
        {
          "output_type": "stream",
          "name": "stdout",
          "text": [
            "[0.00239993 0.97262675 0.00513614 0.01414953 0.00232581]\n"
          ]
        },
        {
          "output_type": "execute_result",
          "data": {
            "text/plain": [
              "'\\n시그모이드 값 출력된다. 사이파이에 exit 함수가 시그모이드다.)\\n0.5 넘으면 양성. 아래면 음성.\\n'"
            ],
            "application/vnd.google.colaboratory.intrinsic+json": {
              "type": "string"
            }
          },
          "metadata": {},
          "execution_count": 10
        }
      ]
    },
    {
      "cell_type": "code",
      "source": [
        "#로지스틱으로 다중분류도 쉽게 할수 있다.\n",
        "\n",
        "lr = LogisticRegression(C=20, max_iter=1000) # C는 규제다 default is L2 값이 크면 완와/ 작으면 강하다 1/c*람다.라서 크면 작고 작으면 크다.\n",
        "# 소실함수 크로스엔트로피 뒤에 L2 L1 elastic .. 등등 option 이라 사용자 선택해서 써. 암튼 L2가 가장 안정적? 이라 해서 쓴다나..\n",
        "# max_iter=1000 는 트레이닝을 1000번만 하라는거다. 모자르면 더 늘려.\n",
        "\n",
        "lr.fit(train_scaled, train_target)\n",
        "\n",
        "print(lr.score(train_scaled, train_target))\n",
        "print(lr.score(test_scaled, test_target))\n",
        "\n",
        "proba = lr.predict_proba(test_scaled[:5])\n",
        "print(np.round(proba, decimals=3))\n",
        "\n"
      ],
      "metadata": {
        "colab": {
          "base_uri": "https://localhost:8080/"
        },
        "id": "xFFnEu5qos9R",
        "outputId": "0942e6f7-8f53-45bc-cf80-1c54fd88607b"
      },
      "execution_count": 11,
      "outputs": [
        {
          "output_type": "stream",
          "name": "stdout",
          "text": [
            "0.9327731092436975\n",
            "0.925\n",
            "[[0.    0.014 0.842 0.    0.135 0.007 0.003]\n",
            " [0.    0.003 0.044 0.    0.007 0.946 0.   ]\n",
            " [0.    0.    0.034 0.934 0.015 0.016 0.   ]\n",
            " [0.011 0.034 0.305 0.006 0.567 0.    0.076]\n",
            " [0.    0.    0.904 0.002 0.089 0.002 0.001]]\n"
          ]
        }
      ]
    },
    {
      "cell_type": "code",
      "source": [
        "print(lr.coef_.shape, lr.intercept_.shape)\n",
        "\n",
        "'''\n",
        "(7,5) 해석 5개의 특성을 사용하는 7개의 선형방정. 절편 7개\n",
        "각각 선형방정식을 하나씩 훈련해서 2진 분류를 7번 수행하는 방식과 비슷한 방식 <--역자 왈. 이해 잘 안됨..\n",
        "나 왈 공부해 보니까...\n",
        "one vs rest(OvR)로 선형 방정식 한개가 해당 클래스 vs 나머지 클래스로 나누는 모델이야.\n",
        "기본적으로 사이키런의 로지스틱리그레션에서 제공한데. 멀티디지젼. 다중분류를 말이야.\n",
        "이거 말고 (시그모이드 기반) softmax 하는것도 있어.\n",
        "'''"
      ],
      "metadata": {
        "colab": {
          "base_uri": "https://localhost:8080/",
          "height": 88
        },
        "id": "W_Yx8TQiqFgN",
        "outputId": "c2d2908b-e9d2-4c8e-8c52-afddd446dc81"
      },
      "execution_count": 13,
      "outputs": [
        {
          "output_type": "stream",
          "name": "stdout",
          "text": [
            "(7, 5) (7,)\n"
          ]
        },
        {
          "output_type": "execute_result",
          "data": {
            "text/plain": [
              "'\\n(7,5) 해석 5개의 특성을 사용하는 7개의 선형방정. 절편 7개\\n각각 선형방정식을 하나씩 훈련해서 2진 분류를 7번 수행하는 방식과 비슷한 방식 <--역자 왈. 이해 잘 안됨..\\n나 왈 공부해 보니까...\\none vs rest(OvR)로 선형 방정식 한개가 해당 클래스 vs 나머지 클래스로 나누는 모델이야. \\n기본적으로 사이키런의 로지스틱리그레션에서 제공한데. 멀티디지젼. 다중분류를 말이야.\\n이거 말고 (시그모이드 기반) softmax 하는것도 있어.\\n'"
            ],
            "application/vnd.google.colaboratory.intrinsic+json": {
              "type": "string"
            }
          },
          "metadata": {},
          "execution_count": 13
        }
      ]
    },
    {
      "cell_type": "code",
      "source": [
        "decisions = lr.decision_function(test_scaled[:5]) # 위에서 구한 모델방정식에 넣은 값이다.\n",
        "print(np.round(decisions, decimals=2))\n",
        "\n",
        "\n",
        "#수동으로 사이파이 에서 제공하는 값. 공부해라.\n",
        "from scipy.special import softmax\n",
        "proba = softmax(decisions, axis=1)\n",
        "print(np.round(proba, decimals=3))"
      ],
      "metadata": {
        "colab": {
          "base_uri": "https://localhost:8080/"
        },
        "id": "Y9z7L5GNrJp2",
        "outputId": "74683b85-4fed-4fb5-8c48-87db7502dbb2"
      },
      "execution_count": 16,
      "outputs": [
        {
          "output_type": "stream",
          "name": "stdout",
          "text": [
            "[[ -6.51   1.04   5.17  -2.76   3.34   0.35  -0.63]\n",
            " [-10.88   1.94   4.78  -2.42   2.99   7.84  -4.25]\n",
            " [ -4.34  -6.24   3.17   6.48   2.36   2.43  -3.87]\n",
            " [ -0.69   0.45   2.64  -1.21   3.26  -5.7    1.26]\n",
            " [ -6.4   -1.99   5.82  -0.13   3.5   -0.09  -0.7 ]]\n",
            "[[0.    0.014 0.842 0.    0.135 0.007 0.003]\n",
            " [0.    0.003 0.044 0.    0.007 0.946 0.   ]\n",
            " [0.    0.    0.034 0.934 0.015 0.016 0.   ]\n",
            " [0.011 0.034 0.305 0.006 0.567 0.    0.076]\n",
            " [0.    0.    0.904 0.002 0.089 0.002 0.001]]\n"
          ]
        }
      ]
    }
  ]
}