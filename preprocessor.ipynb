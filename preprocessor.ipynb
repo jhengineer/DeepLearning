{
  "nbformat": 4,
  "nbformat_minor": 0,
  "metadata": {
    "colab": {
      "provenance": [],
      "authorship_tag": "ABX9TyO6vi4Aotia+gamgr0IETyk",
      "include_colab_link": true
    },
    "kernelspec": {
      "name": "python3",
      "display_name": "Python 3"
    },
    "language_info": {
      "name": "python"
    }
  },
  "cells": [
    {
      "cell_type": "markdown",
      "metadata": {
        "id": "view-in-github",
        "colab_type": "text"
      },
      "source": [
        "<a href=\"https://colab.research.google.com/github/jhengineer/DeepLearning/blob/main/preprocessor.ipynb\" target=\"_parent\"><img src=\"https://colab.research.google.com/assets/colab-badge.svg\" alt=\"Open In Colab\"/></a>"
      ]
    },
    {
      "cell_type": "code",
      "execution_count": null,
      "metadata": {
        "colab": {
          "base_uri": "https://localhost:8080/"
        },
        "id": "jxikeiWHi2G7",
        "outputId": "79826707-7019-40f9-9511-d4317c085f0b"
      },
      "outputs": [
        {
          "output_type": "stream",
          "name": "stdout",
          "text": [
            "1.0\n",
            "[0.]\n"
          ]
        }
      ],
      "source": [
        "import numpy as np\n",
        "import matplotlib.pyplot as plt\n",
        "from sklearn.model_selection import train_test_split\n",
        "from sklearn.neighbors import KNeighborsClassifier\n",
        "\n",
        "\n",
        "\n",
        "bl = [25.4, 26.3, 26.5, 29.0, 29.0, 29.7, 29.7, 30.0, 30.0, 30.7, 31.0, 31.0, 31.5, 32.0, 32.0, 32.0, 33.0, 33.0, 33.5, 33.5, 34.0, 34.0, 34.5, 35.0, 35.0, 35.0, 35.0, 36.0, 36.0, 37.0, 38.5, 38.5, 39.5, 41.0, 41.0]\n",
        "bw = [242.0, 290.0, 340.0, 363.0, 430.0, 450.0, 500.0, 390.0, 450.0, 500.0, 475.0, 500.0, 500.0, 340.0, 600.0, 600.0, 700.0, 700.0, 610.0, 650.0, 575.0, 685.0, 620.0, 680.0, 700.0, 725.0, 720.0, 714.0, 850.0, 1000.0, 920.0, 955.0, 925.0, 975.0, 950.0]\n",
        "sl = [9.8, 10.5, 10.6, 11.0, 11.2, 11.3, 11.8, 11.8, 12.0, 12.2, 12.4, 13.0, 14.3, 15.0]\n",
        "sw = [6.7, 7.5, 7.0, 9.7, 9.8, 8.7, 10.0, 9.9, 9.8, 12.2, 13.4, 12.2, 19.7, 19.9]\n",
        "\n",
        "fish_data = np.column_stack((bl+sl, bw+sw)) # 2열로 된 배열.\n",
        "\n",
        "fish_target = np.concatenate((np.ones(35), np.zeros(14)))# 1 행으로 된 배열.\n",
        "\n",
        "'''\n",
        "매개변수\t설명\n",
        "X, y\t나눌 데이터입니다. X는 입력(특징), y는 타겟(레이블)입니다.\n",
        "test_size\t테스트 데이터의 비율 또는 개수입니다. 예: 0.2는 20%를 테스트 데이터로 사용.\n",
        "train_size\t학습 데이터의 비율 또는 개수입니다. 보통 test_size와 함께 쓰지 않거나, 둘 중 하나만 지정합니다.\n",
        "random_state\t랜덤 시드값을 지정합니다. 같은 시드를 주면 항상 같은 방식으로 나뉩니다 (재현성 보장).\n",
        "shuffle\t데이터를 섞을지 여부입니다. 기본값은 True입니다. 시계열 데이터 등에서는 False로 설정할 수 있습니다.\n",
        "stratify\t데이터를 나눌 때, y의 클래스(햄이냐 고기냐) 비율을 유지하려면 이 값을 y로 설정합니다. (분류 문제에서 유용)\n",
        "'''\n",
        "\n",
        "train_input, test_input, train_target, test_target = train_test_split(fish_data, fish_target,\n",
        "                                                                      stratify=fish_target, random_state=42)\n",
        "\n",
        "\n",
        "\n",
        "\n",
        "kn = KNeighborsClassifier()\n",
        "kn.fit(train_input, train_target)\n",
        "kn.score(test_input, test_target)\n",
        "print(kn.score(test_input, test_target))\n",
        "\n",
        "print(kn.predict([[25, 150]]))\n",
        "\n"
      ]
    },
    {
      "cell_type": "code",
      "source": [
        "distance, indexes = kn.kneighbors([[25, 150]])\n",
        "# 가장 가까운 거리들, train_data index들\n",
        "\n",
        "plt.scatter(train_input[:,0], train_input[:,1])\n",
        "plt.scatter(25, 150, marker='^')\n",
        "plt.scatter(train_input[indexes,0], train_input[indexes,1], marker='*')"
      ],
      "metadata": {
        "id": "-QCuOrYen2Wg"
      },
      "execution_count": null,
      "outputs": []
    },
    {
      "cell_type": "code",
      "source": [
        "'''\n",
        "그래프를 아래와 같이 그려봐서 실제 거리를 그래프와 match 시킨다\n",
        "'''\n",
        "\n",
        "plt.scatter(train_input[:,0], train_input[:,1])\n",
        "plt.scatter(25, 150, marker='^')\n",
        "plt.scatter(train_input[indexes,0], train_input[indexes,1], marker='*')\n",
        "plt.xlim(0,1000) # x scale 을 y 랑 같이 맞춰서 그래프를보면..(x is originally 40)\n",
        "plt.xlabel('length')\n",
        "plt.ylabel('weight')\n",
        "plt.show()"
      ],
      "metadata": {
        "id": "AnUPVx7Dqw0t"
      },
      "execution_count": null,
      "outputs": []
    },
    {
      "cell_type": "code",
      "source": [
        "'''\n",
        "표준점수로 바꾸기.(z value)\n",
        "'''\n",
        "mean = np.mean(train_input, axis=0) #axis=0세로 열 별로..그러니까 렝쓰와 웨잇별로 평균과 std를 구한다.\n",
        "std = np.std(train_input, axis=0) #axis=0세로\n",
        "\n",
        "train_scaled = (train_input - mean) / std # broad casting연산. 행렬에서 평균을 뺴고 std나누는데 알아서 전체 행렬에 대해 계산한다.\n",
        "test_scaled = (test_input - mean) / std\n",
        "\n",
        "print(train_scaled)"
      ],
      "metadata": {
        "id": "bME6HXs0s5-8"
      },
      "execution_count": null,
      "outputs": []
    },
    {
      "cell_type": "code",
      "source": [
        "new = ([25,150]-mean)/std # 중요!!. 원래 대에터도 scale 시켜야 해.\n",
        "\n",
        "plt.scatter(train_scaled[:,0], train_scaled[:,1])\n",
        "plt.scatter(new[0], new[1], marker='*')\n",
        "plt.xlabel('length')\n",
        "plt.ylabel('weight')\n",
        "plt.show()"
      ],
      "metadata": {
        "colab": {
          "base_uri": "https://localhost:8080/",
          "height": 449
        },
        "id": "ZPWPvoEstw6Y",
        "outputId": "a0e8d80f-719c-4bf0-e60f-ee2d6e9c9b71"
      },
      "execution_count": null,
      "outputs": [
        {
          "output_type": "display_data",
          "data": {
            "text/plain": [
              "<Figure size 640x480 with 1 Axes>"
            ],
            "image/png": "[encoded data removed]"
          },
          "metadata": {}
        }
      ]
    },
    {
      "cell_type": "code",
      "source": [
        "kn = KNeighborsClassifier()\n",
        "kn.fit(train_scaled, train_target)\n",
        "kn.score(test_scaled, test_target)\n",
        "print(kn.predict([new])) #도미"
      ],
      "metadata": {
        "colab": {
          "base_uri": "https://localhost:8080/"
        },
        "id": "XRhu46RzujC8",
        "outputId": "f5a6a3e2-752c-42c8-a0b2-411b34a0b334"
      },
      "execution_count": null,
      "outputs": [
        {
          "output_type": "stream",
          "name": "stdout",
          "text": [
            "[1.]\n"
          ]
        }
      ]
    },
    {
      "cell_type": "code",
      "source": [
        "distances, indexes = kn.kneighbors([new])\n",
        "\n",
        "plt.scatter(train_scaled[:,0], train_scaled[:,1])\n",
        "plt.scatter(train_scaled[indexes,0], train_scaled[indexes,1])\n",
        "plt.scatter(new[0], new[1], marker='*')\n",
        "plt.xlabel('length')\n",
        "plt.ylabel('weight')\n",
        "plt.show()"
      ],
      "metadata": {
        "colab": {
          "base_uri": "https://localhost:8080/",
          "height": 449
        },
        "id": "vHlgiolav4Du",
        "outputId": "0761260b-84e6-422c-80d1-8ea1ffee5746"
      },
      "execution_count": null,
      "outputs": [
        {
          "output_type": "display_data",
          "data": {
            "text/plain": [
              "<Figure size 640x480 with 1 Axes>"
            ],
            "image/png": "[encoded data removed]"
          },
          "metadata": {}
        }
      ]
    }
  ]
}